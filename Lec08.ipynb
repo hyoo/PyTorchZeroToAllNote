{
 "cells": [
  {
   "cell_type": "code",
   "execution_count": 1,
   "metadata": {
    "collapsed": true
   },
   "outputs": [],
   "source": [
    "import torch\n",
    "import numpy as np\n",
    "from torch.autograd import Variable\n",
    "from torch.utils.data import Dataset, DataLoader"
   ]
  },
  {
   "cell_type": "code",
   "execution_count": 2,
   "metadata": {
    "collapsed": true
   },
   "outputs": [],
   "source": [
    "class DiabetesDataset(Dataset):\n",
    "    def __init__(self):\n",
    "        xy = np.loadtxt('data-diabetes.csv', delimiter=',', dtype=np.float32)\n",
    "        self.len = xy.shape[0]\n",
    "        self.x_data = torch.from_numpy(xy[:, 0:-1])\n",
    "        self.y_data = torch.from_numpy(xy[:, [-1]])\n",
    "    \n",
    "    def __getitem__(self, index):\n",
    "        return self.x_data[index], self.y_data[index]\n",
    "    \n",
    "    def __len__(self):\n",
    "        return self.len\n",
    "\n",
    "dataset = DiabetesDataset()\n",
    "train_loader = DataLoader(dataset=dataset,\n",
    "                         batch_size=32,\n",
    "                         shuffle=True,\n",
    "                         num_workers=2)"
   ]
  },
  {
   "cell_type": "code",
   "execution_count": 3,
   "metadata": {
    "collapsed": true
   },
   "outputs": [],
   "source": [
    "class Model(torch.nn.Module):\n",
    "    def __init__(self):\n",
    "        super(Model, self).__init__()\n",
    "        self.l1 = torch.nn.Linear(8, 6)\n",
    "        self.l2 = torch.nn.Linear(6, 4)\n",
    "        self.l3 = torch.nn.Linear(4, 1)\n",
    "        \n",
    "        self.activation = torch.nn.Sigmoid()\n",
    "        \n",
    "    def forward(self, x):\n",
    "        out1 = self.activation(self.l1(x))\n",
    "        out2 = self.activation(self.l2(out1))\n",
    "        y_pred = self.activation(self.l3(out2))\n",
    "        return y_pred\n",
    "\n",
    "model = Model()\n",
    "criterion = torch.nn.BCELoss(size_average=True)\n",
    "optimizer = torch.optim.SGD(model.parameters(), lr=0.1)"
   ]
  },
  {
   "cell_type": "code",
   "execution_count": 4,
   "metadata": {},
   "outputs": [
    {
     "name": "stdout",
     "output_type": "stream",
     "text": [
      "0 0 0.8878607749938965\n",
      "0 1 0.801484227180481\n",
      "0 2 0.7712231278419495\n",
      "0 3 0.86708664894104\n",
      "0 4 0.7935858964920044\n",
      "0 5 0.7922212481498718\n",
      "0 6 0.7871977686882019\n",
      "0 7 0.7219237089157104\n",
      "0 8 0.710290253162384\n",
      "0 9 0.7470957040786743\n",
      "0 10 0.6971377730369568\n",
      "0 11 0.7646756768226624\n",
      "0 12 0.7127612233161926\n",
      "0 13 0.7007699012756348\n",
      "0 14 0.6985999345779419\n",
      "0 15 0.6951078772544861\n",
      "0 16 0.6955254673957825\n",
      "0 17 0.6919419169425964\n",
      "0 18 0.6916269659996033\n",
      "0 19 0.6861696243286133\n",
      "0 20 0.6756725907325745\n",
      "0 21 0.665036141872406\n",
      "0 22 0.6500958204269409\n",
      "0 23 0.6387339234352112\n",
      "1 0 0.6610230803489685\n",
      "1 1 0.6668596267700195\n",
      "1 2 0.6133877635002136\n",
      "1 3 0.6336243152618408\n",
      "1 4 0.6960896253585815\n",
      "1 5 0.6205074787139893\n",
      "1 6 0.580258846282959\n",
      "1 7 0.595847487449646\n",
      "1 8 0.5582656264305115\n",
      "1 9 0.6928086280822754\n",
      "1 10 0.7077392935752869\n",
      "1 11 0.7210673093795776\n",
      "1 12 0.6177173256874084\n",
      "1 13 0.7209910750389099\n",
      "1 14 0.6322782635688782\n",
      "1 15 0.6902731657028198\n",
      "1 16 0.7043210864067078\n",
      "1 17 0.6333820819854736\n",
      "1 18 0.6759515404701233\n",
      "1 19 0.7455692291259766\n",
      "1 20 0.6095343828201294\n",
      "1 21 0.6481385827064514\n",
      "1 22 0.6611829400062561\n",
      "1 23 0.5684148669242859\n"
     ]
    }
   ],
   "source": [
    "for epoch in range(2):\n",
    "    for i, data in enumerate(train_loader, 0):\n",
    "        inputs, labels = data\n",
    "        inputs, labels = Variable(inputs), Variable(labels)\n",
    "        \n",
    "        y_pred = model(inputs)\n",
    "        loss = criterion(y_pred, labels)\n",
    "        print(epoch, i, loss.data[0])\n",
    "        \n",
    "        optimizer.zero_grad()\n",
    "        loss.backward()\n",
    "        optimizer.step()"
   ]
  },
  {
   "cell_type": "code",
   "execution_count": null,
   "metadata": {
    "collapsed": true
   },
   "outputs": [],
   "source": []
  }
 ],
 "metadata": {
  "kernelspec": {
   "display_name": "Python 3",
   "language": "python",
   "name": "python3"
  },
  "language_info": {
   "codemirror_mode": {
    "name": "ipython",
    "version": 3
   },
   "file_extension": ".py",
   "mimetype": "text/x-python",
   "name": "python",
   "nbconvert_exporter": "python",
   "pygments_lexer": "ipython3",
   "version": "3.6.2"
  }
 },
 "nbformat": 4,
 "nbformat_minor": 2
}
