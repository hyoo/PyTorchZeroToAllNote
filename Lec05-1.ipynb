{
 "cells": [
  {
   "cell_type": "code",
   "execution_count": 2,
   "metadata": {
    "collapsed": true
   },
   "outputs": [],
   "source": [
    "import torch\n",
    "from torch.autograd import Variable"
   ]
  },
  {
   "cell_type": "code",
   "execution_count": 3,
   "metadata": {
    "collapsed": true
   },
   "outputs": [],
   "source": [
    "# 3x1\n",
    "x_data = Variable(torch.Tensor([[1.0], [2.0], [3.0]]))\n",
    "y_data = Variable(torch.Tensor([[2.0], [4.0], [6.0]]))"
   ]
  },
  {
   "cell_type": "code",
   "execution_count": 4,
   "metadata": {
    "collapsed": true
   },
   "outputs": [],
   "source": [
    "class Model(torch.nn.Module):\n",
    "    def __init__(self):\n",
    "        super(Model, self).__init__()\n",
    "        self.linear = torch.nn.Linear(1, 1) # One in and one out\n",
    "    \n",
    "    def forward(self, x):\n",
    "        return self.linear(x)"
   ]
  },
  {
   "cell_type": "code",
   "execution_count": 17,
   "metadata": {},
   "outputs": [
    {
     "name": "stdout",
     "output_type": "stream",
     "text": [
      "0 80.58750915527344\n",
      "1 79.62932586669922\n",
      "2 78.4871597290039\n",
      "3 77.1275863647461\n",
      "4 75.51197052001953\n",
      "5 73.59609985351562\n",
      "6 71.32997131347656\n",
      "7 68.65802001953125\n",
      "8 65.51993560791016\n",
      "9 61.852535247802734\n",
      "10 57.59320068359375\n",
      "11 52.68583679199219\n",
      "12 47.09049987792969\n",
      "13 40.79875564575195\n",
      "14 33.8572883605957\n",
      "15 26.403961181640625\n",
      "16 18.722017288208008\n",
      "17 11.321037292480469\n",
      "18 5.056854248046875\n",
      "19 1.3083019256591797\n",
      "20 2.2366318702697754\n",
      "21 2.2366318702697754\n",
      "22 1.0324764251708984\n",
      "23 1.5410640239715576\n",
      "24 1.5410640239715576\n",
      "25 1.020373821258545\n",
      "26 0.8926165103912354\n",
      "27 0.8301180601119995\n",
      "28 0.7755696177482605\n",
      "29 0.6859678626060486\n",
      "30 0.6558399200439453\n",
      "31 0.6606699228286743\n",
      "32 0.6207939386367798\n",
      "33 0.5896186828613281\n",
      "34 0.5647079944610596\n",
      "35 0.530708372592926\n",
      "36 0.49805527925491333\n",
      "37 0.4706025719642639\n",
      "38 0.4279688894748688\n",
      "39 0.4066126346588135\n",
      "40 0.397019624710083\n",
      "41 0.3816607892513275\n",
      "42 0.36269012093544006\n",
      "43 0.3412402272224426\n",
      "44 0.317585289478302\n",
      "45 0.2923749089241028\n",
      "46 0.2666624188423157\n",
      "47 0.24234461784362793\n",
      "48 0.2225768119096756\n",
      "49 0.19874326884746552\n",
      "predict (after training) 4 7.50612735748291\n"
     ]
    }
   ],
   "source": [
    "model = Model()\n",
    "criterion = torch.nn.MSELoss(size_average=False)\n",
    "# optimizer = torch.optim.SGD(model.parameters(), lr=0.01)\n",
    "# optimizer = torch.optim.Adagrad(model.parameters(), lr=0.01)\n",
    "# optimizer = torch.optim.Adam(model.parameters(), lr=0.01)\n",
    "# optimizer = torch.optim.Adamax(model.parameters(), lr=0.01)\n",
    "# optimizer = torch.optim.ASGD(model.parameters(), lr=0.01)\n",
    "# optimizer = torch.optim.LBFGS(model.parameters(), lr=0.01)\n",
    "# optimizer = torch.optim.RMSprop(model.parameters(), lr=0.01)\n",
    "optimizer = torch.optim.Rprop(model.parameters(), lr=0.01)\n",
    "\n",
    "# Training\n",
    "for epoch in range(50):\n",
    "    y_pred = model(x_data)\n",
    "    \n",
    "    loss = criterion(y_pred, y_data)\n",
    "    print(epoch, loss.data[0])\n",
    "    \n",
    "    optimizer.zero_grad()\n",
    "    loss.backward()\n",
    "    optimizer.step()\n",
    "    \n",
    "# After training\n",
    "hour = Variable(torch.Tensor([[4.0]]))\n",
    "print(\"predict (after training)\", 4, model.forward(hour).data[0][0])"
   ]
  },
  {
   "cell_type": "code",
   "execution_count": null,
   "metadata": {
    "collapsed": true
   },
   "outputs": [],
   "source": []
  }
 ],
 "metadata": {
  "kernelspec": {
   "display_name": "Python 3",
   "language": "python",
   "name": "python3"
  },
  "language_info": {
   "codemirror_mode": {
    "name": "ipython",
    "version": 3
   },
   "file_extension": ".py",
   "mimetype": "text/x-python",
   "name": "python",
   "nbconvert_exporter": "python",
   "pygments_lexer": "ipython3",
   "version": "3.6.2"
  }
 },
 "nbformat": 4,
 "nbformat_minor": 2
}
