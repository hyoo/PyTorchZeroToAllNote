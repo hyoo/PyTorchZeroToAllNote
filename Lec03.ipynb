{
 "cells": [
  {
   "cell_type": "code",
   "execution_count": 1,
   "metadata": {
    "collapsed": true
   },
   "outputs": [],
   "source": [
    "import numpy as np\n",
    "import matplotlib as plt"
   ]
  },
  {
   "cell_type": "code",
   "execution_count": 2,
   "metadata": {
    "collapsed": true
   },
   "outputs": [],
   "source": [
    "x_data = [1.0, 2.0, 3.0]\n",
    "y_data = [2.0, 4.0, 6.0]\n",
    "w = 1.0\n",
    "learning_rate = 0.01"
   ]
  },
  {
   "cell_type": "code",
   "execution_count": 3,
   "metadata": {
    "collapsed": true
   },
   "outputs": [],
   "source": [
    "def forward(x):\n",
    "    return x * w\n",
    "\n",
    "def loss(x, y):\n",
    "    y_pred = forward(x)\n",
    "    return (y_pred - y)**2\n",
    "\n",
    "def gradient(x, y):\n",
    "    return 2 * x * (x * w - y)"
   ]
  },
  {
   "cell_type": "code",
   "execution_count": 5,
   "metadata": {},
   "outputs": [
    {
     "name": "stdout",
     "output_type": "stream",
     "text": [
      "predict (before training) 4 7.9999999999996945\n",
      "\tgrad: 1.0 2.0 -1.5276668818842154e-13\n",
      "\tgrad: 2.0 4.0 -5.986322548778844e-13\n",
      "\tgrad: 3.0 6.0 -1.2363443602225743e-12\n",
      "progress: 0 w= 1.9999999999999436 loss= 2.8477878678478526e-26\n",
      "\tgrad: 1.0 2.0 -1.127986593019159e-13\n",
      "\tgrad: 2.0 4.0 -4.4231285301066237e-13\n",
      "\tgrad: 3.0 6.0 -9.166001291305292e-13\n",
      "progress: 1 w= 1.9999999999999583 loss= 1.5683343656698936e-26\n",
      "\tgrad: 1.0 2.0 -8.348877145181177e-14\n",
      "\tgrad: 2.0 4.0 -3.268496584496461e-13\n",
      "\tgrad: 3.0 6.0 -6.767919558114954e-13\n",
      "progress: 2 w= 1.9999999999999691 loss= 8.532319550870464e-27\n",
      "\tgrad: 1.0 2.0 -6.17284001691587e-14\n",
      "\tgrad: 2.0 4.0 -2.4158453015843406e-13\n",
      "\tgrad: 3.0 6.0 -5.009326287108706e-13\n",
      "progress: 3 w= 1.9999999999999774 loss= 4.556460588556564e-27\n",
      "\tgrad: 1.0 2.0 -4.529709940470639e-14\n",
      "\tgrad: 2.0 4.0 -1.7763568394002505e-13\n",
      "\tgrad: 3.0 6.0 -3.6770586575585185e-13\n",
      "progress: 4 w= 1.9999999999999833 loss= 2.473867798773093e-27\n",
      "\tgrad: 1.0 2.0 -3.3306690738754696e-14\n",
      "\tgrad: 2.0 4.0 -1.3145040611561853e-13\n",
      "\tgrad: 3.0 6.0 -2.717825964282383e-13\n",
      "progress: 5 w= 1.9999999999999876 loss= 1.3915506368098648e-27\n",
      "\tgrad: 1.0 2.0 -2.4868995751603507e-14\n",
      "\tgrad: 2.0 4.0 -9.769962616701378e-14\n",
      "\tgrad: 3.0 6.0 -2.0250467969162855e-13\n",
      "progress: 6 w= 1.9999999999999907 loss= 8.077935669463161e-28\n",
      "\tgrad: 1.0 2.0 -1.865174681370263e-14\n",
      "\tgrad: 2.0 4.0 -7.283063041541027e-14\n",
      "\tgrad: 3.0 6.0 -1.4921397450962104e-13\n",
      "progress: 7 w= 1.9999999999999931 loss= 4.1730741886191525e-28\n",
      "\tgrad: 1.0 2.0 -1.3766765505351941e-14\n",
      "\tgrad: 2.0 4.0 -5.3290705182007514e-14\n",
      "\tgrad: 3.0 6.0 -1.1191048088221578e-13\n",
      "progress: 8 w= 1.999999999999995 loss= 2.279808016088724e-28\n",
      "\tgrad: 1.0 2.0 -1.021405182655144e-14\n",
      "\tgrad: 2.0 4.0 -4.085620730620576e-14\n",
      "\tgrad: 3.0 6.0 -8.526512829121202e-14\n",
      "progress: 9 w= 1.9999999999999962 loss= 1.33317492982351e-28\n",
      "predict (before training) 4 7.999999999999985\n"
     ]
    }
   ],
   "source": [
    "# before training\n",
    "print(\"predict (before training)\", 4, forward(4))\n",
    "\n",
    "for epoch in range(10):\n",
    "    for x_val, y_val in zip(x_data, y_data):\n",
    "        grad = gradient(x_val, y_val)\n",
    "        w = w - learning_rate * grad\n",
    "        print(\"\\tgrad:\", x_val, y_val, grad)\n",
    "        l = loss(x_val, y_val)\n",
    "        \n",
    "    print(\"progress:\", epoch, \"w=\", w, \"loss=\", l)\n",
    "\n",
    "# After training\n",
    "print(\"predict (before training)\", 4, forward(4))"
   ]
  },
  {
   "cell_type": "code",
   "execution_count": null,
   "metadata": {
    "collapsed": true
   },
   "outputs": [],
   "source": []
  }
 ],
 "metadata": {
  "kernelspec": {
   "display_name": "Python 3",
   "language": "python",
   "name": "python3"
  },
  "language_info": {
   "codemirror_mode": {
    "name": "ipython",
    "version": 3
   },
   "file_extension": ".py",
   "mimetype": "text/x-python",
   "name": "python",
   "nbconvert_exporter": "python",
   "pygments_lexer": "ipython3",
   "version": "3.6.2"
  }
 },
 "nbformat": 4,
 "nbformat_minor": 2
}
