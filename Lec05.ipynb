{
 "cells": [
  {
   "cell_type": "code",
   "execution_count": 1,
   "metadata": {
    "collapsed": true
   },
   "outputs": [],
   "source": [
    "import torch\n",
    "from torch.autograd import Variable"
   ]
  },
  {
   "cell_type": "code",
   "execution_count": 2,
   "metadata": {
    "collapsed": true
   },
   "outputs": [],
   "source": [
    "# 3x1\n",
    "x_data = Variable(torch.Tensor([[1.0], [2.0], [3.0]]))\n",
    "y_data = Variable(torch.Tensor([[2.0], [4.0], [6.0]]))"
   ]
  },
  {
   "cell_type": "code",
   "execution_count": 3,
   "metadata": {
    "collapsed": true
   },
   "outputs": [],
   "source": [
    "class Model(torch.nn.Module):\n",
    "    def __init__(self):\n",
    "        super(Model, self).__init__()\n",
    "        self.linear = torch.nn.Linear(1, 1) # One in and one out\n",
    "    \n",
    "    def forward(self, x):\n",
    "        return self.linear(x)"
   ]
  },
  {
   "cell_type": "code",
   "execution_count": 8,
   "metadata": {},
   "outputs": [
    {
     "name": "stdout",
     "output_type": "stream",
     "text": [
      "0 43.08500289916992\n",
      "1 19.182279586791992\n",
      "2 8.541437149047852\n",
      "3 3.8044049739837646\n",
      "4 1.6955859661102295\n",
      "5 0.7567707300186157\n",
      "6 0.3388090133666992\n",
      "7 0.15271642804145813\n",
      "8 0.06984645128250122\n",
      "9 0.032928336411714554\n",
      "10 0.01646692492067814\n",
      "11 0.009112754836678505\n",
      "12 0.005813354626297951\n",
      "13 0.004319317173212767\n",
      "14 0.003629314713180065\n",
      "15 0.00329761509783566\n",
      "16 0.0031257672235369682\n",
      "17 0.0030254623852670193\n",
      "18 0.0029573095962405205\n",
      "19 0.002903840970247984\n",
      "20 0.0028572336304932833\n",
      "21 0.0028139783535152674\n",
      "22 0.002772589446976781\n",
      "23 0.0027323097456246614\n",
      "24 0.0026928356382995844\n",
      "25 0.0026540360413491726\n",
      "26 0.0026158695109188557\n",
      "27 0.002578243613243103\n",
      "28 0.002541176974773407\n",
      "29 0.002504687989130616\n",
      "30 0.0024686865508556366\n",
      "31 0.00243319571018219\n",
      "32 0.002398235257714987\n",
      "33 0.00236376840621233\n",
      "34 0.002329800510779023\n",
      "35 0.002296287566423416\n",
      "36 0.0022633103653788567\n",
      "37 0.002230777870863676\n",
      "38 0.002198720583692193\n",
      "39 0.002167111961171031\n",
      "40 0.002135979477316141\n",
      "41 0.002105266787111759\n",
      "42 0.0020750071853399277\n",
      "43 0.0020452109165489674\n",
      "44 0.0020158051047474146\n",
      "45 0.0019868456292897463\n",
      "46 0.0019582808017730713\n",
      "47 0.0019301425199955702\n",
      "48 0.0019023905042558908\n",
      "49 0.0018750660819932818\n",
      "predict (after training) 4 7.950222015380859\n"
     ]
    }
   ],
   "source": [
    "model = Model()\n",
    "criterion = torch.nn.MSELoss(size_average=False)\n",
    "optimizer = torch.optim.SGD(model.parameters(), lr=0.01)\n",
    "\n",
    "# Training\n",
    "for epoch in range(10):\n",
    "    y_pred = model(x_data)\n",
    "    \n",
    "    loss = criterion(y_pred, y_data)\n",
    "    print(epoch, loss.data[0])\n",
    "    \n",
    "    optimizer.zero_grad()\n",
    "    loss.backward()\n",
    "    optimizer.step()\n",
    "    \n",
    "# After training\n",
    "hour = Variable(torch.Tensor([[4.0]]))\n",
    "print(\"predict (after training)\", 4, model.forward(hour).data[0][0])"
   ]
  },
  {
   "cell_type": "code",
   "execution_count": null,
   "metadata": {
    "collapsed": true
   },
   "outputs": [],
   "source": []
  }
 ],
 "metadata": {
  "kernelspec": {
   "display_name": "Python 3",
   "language": "python",
   "name": "python3"
  },
  "language_info": {
   "codemirror_mode": {
    "name": "ipython",
    "version": 3
   },
   "file_extension": ".py",
   "mimetype": "text/x-python",
   "name": "python",
   "nbconvert_exporter": "python",
   "pygments_lexer": "ipython3",
   "version": "3.6.2"
  }
 },
 "nbformat": 4,
 "nbformat_minor": 2
}
