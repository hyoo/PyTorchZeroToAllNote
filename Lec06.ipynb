{
 "cells": [
  {
   "cell_type": "code",
   "execution_count": 31,
   "metadata": {},
   "outputs": [],
   "source": [
    "import torch\n",
    "from torch.autograd import Variable\n",
    "import torch.nn.functional as F"
   ]
  },
  {
   "cell_type": "code",
   "execution_count": 32,
   "metadata": {
    "collapsed": true
   },
   "outputs": [],
   "source": [
    "# 3x1\n",
    "x_data = Variable(torch.Tensor([[1.0], [2.0], [3.0], [4.0]]))\n",
    "y_data = Variable(torch.Tensor([[0.], [0.], [1.], [1.]]))"
   ]
  },
  {
   "cell_type": "code",
   "execution_count": 35,
   "metadata": {},
   "outputs": [
    {
     "name": "stdout",
     "output_type": "stream",
     "text": [
      "0 0.6783575415611267\n",
      "1 0.6774493455886841\n",
      "2 0.6765664219856262\n",
      "3 0.6757079362869263\n",
      "4 0.6748728156089783\n",
      "5 0.6740601062774658\n",
      "6 0.6732689142227173\n",
      "7 0.6724982261657715\n",
      "8 0.6717474460601807\n",
      "9 0.6710155010223389\n",
      "10 0.6703017950057983\n",
      "11 0.669605553150177\n",
      "12 0.6689260601997375\n",
      "13 0.6682625412940979\n",
      "14 0.6676145195960999\n",
      "15 0.6669812798500061\n",
      "16 0.6663621068000793\n",
      "17 0.6657567024230957\n",
      "18 0.6651642918586731\n",
      "19 0.6645843982696533\n",
      "20 0.664016604423523\n",
      "21 0.663460373878479\n",
      "22 0.6629152297973633\n",
      "23 0.6623807549476624\n",
      "24 0.661856472492218\n",
      "25 0.6613420844078064\n",
      "26 0.6608371734619141\n",
      "27 0.6603413820266724\n",
      "28 0.6598541736602783\n",
      "29 0.6593753695487976\n",
      "30 0.6589047312736511\n",
      "31 0.6584417819976807\n",
      "32 0.6579862833023071\n",
      "33 0.6575379371643066\n",
      "34 0.6570964455604553\n",
      "35 0.6566615700721741\n",
      "36 0.6562330722808838\n",
      "37 0.6558106541633606\n",
      "38 0.6553941369056702\n",
      "39 0.6549832820892334\n",
      "40 0.6545778512954712\n",
      "41 0.654177725315094\n",
      "42 0.6537825465202332\n",
      "43 0.6533923745155334\n",
      "44 0.6530067324638367\n",
      "45 0.6526256203651428\n",
      "46 0.652248740196228\n",
      "47 0.6518762111663818\n",
      "48 0.651507556438446\n",
      "49 0.6511427164077759\n",
      "predict 1 hour  1.0 True\n",
      "predict 7 hour  7.0 True\n"
     ]
    }
   ],
   "source": [
    "class Model(torch.nn.Module):\n",
    "    def __init__(self):\n",
    "        super(Model, self).__init__()\n",
    "        self.linear = torch.nn.Linear(1, 1)\n",
    "    \n",
    "    def forward(self, x):\n",
    "        return F.sigmoid(self.linear(x))\n",
    "#         return F.relu(self.linear(x))\n",
    "#         return F.relu6(self.linear(x))\n",
    "#         return F.selu(self.linear(x))\n",
    "\n",
    "\n",
    "model = Model()\n",
    "\n",
    "criterion = torch.nn.BCELoss(size_average=True)\n",
    "optimizer = torch.optim.SGD(model.parameters(), lr=0.01)\n",
    "# optimizer = torch.optim.Rprop(model.parameters(), lr=0.01)\n",
    "\n",
    "for epoch in range(50):\n",
    "    y_pred = model(x_data)\n",
    "    \n",
    "    loss = criterion(y_pred, y_data)\n",
    "    print(epoch, loss.data[0])\n",
    "    \n",
    "    optimizer.zero_grad()\n",
    "    loss.backward()\n",
    "    optimizer.step()\n",
    "    \n",
    "# After training\n",
    "hour_var = Variable(torch.Tensor([[1.0]]))\n",
    "print(\"predict 1 hour \", 1.0, model(hour_var).data[0][0] > 0.5)\n",
    "hour_var = Variable(torch.Tensor([[7.0]]))\n",
    "print(\"predict 7 hour \", 7.0, model(hour_var).data[0][0] > 0.5)"
   ]
  },
  {
   "cell_type": "code",
   "execution_count": null,
   "metadata": {
    "collapsed": true
   },
   "outputs": [],
   "source": []
  }
 ],
 "metadata": {
  "kernelspec": {
   "display_name": "Python 3",
   "language": "python",
   "name": "python3"
  },
  "language_info": {
   "codemirror_mode": {
    "name": "ipython",
    "version": 3
   },
   "file_extension": ".py",
   "mimetype": "text/x-python",
   "name": "python",
   "nbconvert_exporter": "python",
   "pygments_lexer": "ipython3",
   "version": "3.6.2"
  }
 },
 "nbformat": 4,
 "nbformat_minor": 2
}
